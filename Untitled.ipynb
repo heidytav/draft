{
 "cells": [
  {
   "cell_type": "code",
   "execution_count": 1,
   "id": "c4f24dee",
   "metadata": {},
   "outputs": [],
   "source": [
    "import numpy as np\n",
    "import pandas as pd \n",
    "\n",
    "%matplotlib inline\n",
    "import matplotlib.pyplot as plt\n",
    "import seaborn as sns\n"
   ]
  },
  {
   "cell_type": "code",
   "execution_count": 2,
   "id": "f2075599",
   "metadata": {},
   "outputs": [],
   "source": [
    "Wine= pd.read_csv('Wine_Rating.csv')"
   ]
  },
  {
   "cell_type": "code",
   "execution_count": 3,
   "id": "590c6437",
   "metadata": {},
   "outputs": [
    {
     "name": "stdout",
     "output_type": "stream",
     "text": [
      "             Rating  NumberOfRatings         Price\n",
      "count  13834.000000     13834.000000  13834.000000\n",
      "mean       3.865664       428.322466     33.024850\n",
      "std        0.296427      1838.413812     70.899893\n",
      "min        2.200000        25.000000      3.150000\n",
      "25%        3.700000        56.000000      9.902500\n",
      "50%        3.900000       129.000000     15.950000\n",
      "75%        4.100000       336.000000     32.500000\n",
      "max        4.900000     94287.000000   3410.790000\n",
      "<class 'pandas.core.frame.DataFrame'>\n",
      "RangeIndex: 13834 entries, 0 to 13833\n",
      "Data columns (total 9 columns):\n",
      " #   Column           Non-Null Count  Dtype  \n",
      "---  ------           --------------  -----  \n",
      " 0   Name             13834 non-null  object \n",
      " 1   Country          13834 non-null  object \n",
      " 2   Region           13834 non-null  object \n",
      " 3   Winery           13834 non-null  object \n",
      " 4   Rating           13834 non-null  float64\n",
      " 5   NumberOfRatings  13834 non-null  int64  \n",
      " 6   Price            13834 non-null  float64\n",
      " 7   Year             13834 non-null  object \n",
      " 8   Type of Wine     13834 non-null  object \n",
      "dtypes: float64(2), int64(1), object(6)\n",
      "memory usage: 972.8+ KB\n",
      "None\n"
     ]
    }
   ],
   "source": [
    "print(Wine.describe())\n",
    "print(Wine.info())"
   ]
  },
  {
   "cell_type": "code",
   "execution_count": 4,
   "id": "74664b86",
   "metadata": {},
   "outputs": [],
   "source": [
    "Wine['Year'] = Wine['Year'].replace('N.V.', 0)\n",
    "Wine['Year'] = Wine['Year'].astype('int')"
   ]
  },
  {
   "cell_type": "code",
   "execution_count": 5,
   "id": "11f2131a",
   "metadata": {},
   "outputs": [
    {
     "name": "stdout",
     "output_type": "stream",
     "text": [
      "             Rating  NumberOfRatings         Price          Year\n",
      "count  13834.000000     13834.000000  13834.000000  13834.000000\n",
      "mean       3.865664       428.322466     33.024850   1907.135391\n",
      "std        0.296427      1838.413812     70.899893    454.699562\n",
      "min        2.200000        25.000000      3.150000      0.000000\n",
      "25%        3.700000        56.000000      9.902500   2014.000000\n",
      "50%        3.900000       129.000000     15.950000   2016.000000\n",
      "75%        4.100000       336.000000     32.500000   2018.000000\n",
      "max        4.900000     94287.000000   3410.790000   2020.000000\n",
      "<class 'pandas.core.frame.DataFrame'>\n",
      "RangeIndex: 13834 entries, 0 to 13833\n",
      "Data columns (total 9 columns):\n",
      " #   Column           Non-Null Count  Dtype  \n",
      "---  ------           --------------  -----  \n",
      " 0   Name             13834 non-null  object \n",
      " 1   Country          13834 non-null  object \n",
      " 2   Region           13834 non-null  object \n",
      " 3   Winery           13834 non-null  object \n",
      " 4   Rating           13834 non-null  float64\n",
      " 5   NumberOfRatings  13834 non-null  int64  \n",
      " 6   Price            13834 non-null  float64\n",
      " 7   Year             13834 non-null  int64  \n",
      " 8   Type of Wine     13834 non-null  object \n",
      "dtypes: float64(2), int64(2), object(5)\n",
      "memory usage: 972.8+ KB\n",
      "None\n"
     ]
    }
   ],
   "source": [
    "print(Wine.describe())\n",
    "print(Wine.info())"
   ]
  },
  {
   "cell_type": "code",
   "execution_count": 10,
   "id": "b4b1c80f",
   "metadata": {},
   "outputs": [
    {
     "data": {
      "text/plain": [
       "3505"
      ]
     },
     "execution_count": 10,
     "metadata": {},
     "output_type": "execute_result"
    }
   ],
   "source": [
    "Wine.Winery.nunique()"
   ]
  },
  {
   "cell_type": "code",
   "execution_count": 11,
   "id": "3f34cdf0",
   "metadata": {},
   "outputs": [
    {
     "data": {
      "text/plain": [
       "861"
      ]
     },
     "execution_count": 11,
     "metadata": {},
     "output_type": "execute_result"
    }
   ],
   "source": [
    "Wine.Region.nunique()"
   ]
  },
  {
   "cell_type": "code",
   "execution_count": 12,
   "id": "b9f23b8f",
   "metadata": {},
   "outputs": [
    {
     "data": {
      "text/plain": [
       "33"
      ]
     },
     "execution_count": 12,
     "metadata": {},
     "output_type": "execute_result"
    }
   ],
   "source": [
    "Wine.Country.nunique()"
   ]
  },
  {
   "cell_type": "code",
   "execution_count": 17,
   "id": "66a6e4c2",
   "metadata": {},
   "outputs": [
    {
     "data": {
      "text/plain": [
       "Markus Molitor                  73\n",
       "Errazuriz                       58\n",
       "Torres                          54\n",
       "Joseph Drouhin                  51\n",
       "Gaja                            42\n",
       "M. Chapoutier                   42\n",
       "E. Guigal                       36\n",
       "Antinori                        36\n",
       "Paul Jaboulet Aîné              36\n",
       "Von Winning                     34\n",
       "Château de Saint Cosme          33\n",
       "Gérard Bertrand                 33\n",
       "Fontanafredda                   32\n",
       "Francis Ford Coppola            31\n",
       "Penfolds                        31\n",
       "Niepoort                        31\n",
       "Delas                           30\n",
       "Wittmann                        30\n",
       "Knipser                         29\n",
       "Caliterra                       28\n",
       "d'Arenberg                      28\n",
       "Marqués de Riscal               27\n",
       "Farnese                         26\n",
       "Masi                            26\n",
       "Tasca d'Almerita                26\n",
       "Salentein                       26\n",
       "Vite Colte                      26\n",
       "Planeta                         26\n",
       "Paul Mas                        26\n",
       "Ramón Bilbao                    25\n",
       "Baron Philippe de Rothschild    25\n",
       "Ruffino                         25\n",
       "Weingut Bründlmayer             25\n",
       "St. Michael-Eppan               25\n",
       "Heinrich                        25\n",
       "Cusumano                        24\n",
       "Louis Jadot                     24\n",
       "Calmel & Joseph                 24\n",
       "Colterenzio (Schreckbichl)      24\n",
       "Emrich-Schönleber               24\n",
       "Ricasoli                        23\n",
       "Zenato                          23\n",
       "Dr. Von Bassermann-Jordan       23\n",
       "San Marzano                     23\n",
       "Vietti                          22\n",
       "Nals Margreid                   22\n",
       "Epicuro                         21\n",
       "Trapiche                        21\n",
       "Simonsig                        21\n",
       "Domaine de la Janasse           21\n",
       "Name: Winery, dtype: int64"
      ]
     },
     "execution_count": 17,
     "metadata": {},
     "output_type": "execute_result"
    }
   ],
   "source": [
    "Wine.Winery.value_counts().head(50)"
   ]
  },
  {
   "cell_type": "code",
   "execution_count": 28,
   "id": "37f360c0",
   "metadata": {},
   "outputs": [],
   "source": [
    "total_winery = Wine.Winery.value_counts()[:20]"
   ]
  },
  {
   "cell_type": "code",
   "execution_count": 21,
   "id": "c8a013d7",
   "metadata": {},
   "outputs": [
    {
     "data": {
      "text/plain": [
       "Rioja                      385\n",
       "Stellenbosch               337\n",
       "Pfalz                      331\n",
       "Toscana                    307\n",
       "Champagne                  263\n",
       "Südtirol - Alto Adige      227\n",
       "Mosel                      217\n",
       "Saint-Émilion Grand Cru    207\n",
       "Terre Siciliane            176\n",
       "Barolo                     175\n",
       "Brunello di Montalcino     168\n",
       "Ribera del Duero           166\n",
       "Rheinhessen                163\n",
       "Chianti Classico           159\n",
       "Burgenland                 157\n",
       "Mendoza                    149\n",
       "California                 143\n",
       "Rheingau                   137\n",
       "Baden                      134\n",
       "Pays d'Oc                  132\n",
       "Veneto                     129\n",
       "Marlborough                124\n",
       "Pomerol                    118\n",
       "Western Cape               113\n",
       "Saint-Julien               110\n",
       "Margaux                    109\n",
       "Colchagua Valley           108\n",
       "Nahe                       105\n",
       "Puglia                     104\n",
       "Châteauneuf-du-Pape        100\n",
       "Douro                      100\n",
       "Haut-Médoc                  98\n",
       "Salento                     94\n",
       "Pauillac                    93\n",
       "Pessac-Léognan              88\n",
       "Napa Valley                 87\n",
       "Alentejano                  86\n",
       "Central Valley              86\n",
       "Bordeaux                    81\n",
       "Langhe                      79\n",
       "Sicilia                     78\n",
       "Priorat                     76\n",
       "Saint-Estèphe               73\n",
       "Côtes-du-Rhône              73\n",
       "Alsace                      69\n",
       "Côtes de Provence           67\n",
       "McLaren Vale                63\n",
       "Primitivo di Manduria       62\n",
       "Barbera d'Alba              62\n",
       "Montepulciano d'Abruzzo     61\n",
       "Name: Region, dtype: int64"
      ]
     },
     "execution_count": 21,
     "metadata": {},
     "output_type": "execute_result"
    }
   ],
   "source": [
    "Wine.Region.value_counts().head(50)"
   ]
  },
  {
   "cell_type": "code",
   "execution_count": null,
   "id": "c954b666",
   "metadata": {},
   "outputs": [],
   "source": []
  },
  {
   "cell_type": "code",
   "execution_count": 23,
   "id": "04555977",
   "metadata": {},
   "outputs": [
    {
     "data": {
      "image/png": "[encoded data removed]",
      "text/plain": [
       "<Figure size 720x288 with 1 Axes>"
      ]
     },
     "metadata": {
      "needs_background": "light"
     },
     "output_type": "display_data"
    }
   ],
   "source": [
    "plt.figure(figsize=(10, 4))\n",
    "graph = sns.countplot(x='Rating', data=Wine, color='mediumpurple')\n",
    "graph.set_title(\"Rating Count distribuition \", fontsize=20)\n",
    "graph.set_xlabel(\"Rating\", fontsize=15) \n",
    "graph.set_ylabel(\"Count\", fontsize=15)\n",
    "plt.show()"
   ]
  },
  {
   "cell_type": "code",
   "execution_count": 32,
   "id": "85f0a154",
   "metadata": {},
   "outputs": [
    {
     "data": {
      "image/png": "[encoded data removed]",
      "text/plain": [
       "<Figure size 1152x432 with 1 Axes>"
      ]
     },
     "metadata": {
      "needs_background": "light"
     },
     "output_type": "display_data"
    }
   ],
   "source": [
    "plt.figure(figsize=(16,6))\n",
    "\n",
    "graph = sns.boxplot(x='Winery', y='Rating',\n",
    "                 data=Wine[Wine.Winery.isin(total_winery.index.values)],\n",
    "                 color='mediumpurple')\n",
    "graph.set_title(\"Rating by Winery\", fontsize=20)\n",
    "graph.set_xlabel(\"Winery\", fontsize=15)\n",
    "graph.set_ylabel(\"Rating\", fontsize=15)\n",
    "graph.set_xticklabels(graph.get_xticklabels())\n",
    "\n",
    "plt.show()"
   ]
  },
  {
   "cell_type": "code",
   "execution_count": null,
   "id": "425b21b6",
   "metadata": {},
   "outputs": [],
   "source": []
  },
  {
   "cell_type": "code",
   "execution_count": null,
   "id": "98449b2d",
   "metadata": {},
   "outputs": [],
   "source": []
  },
  {
   "cell_type": "code",
   "execution_count": null,
   "id": "1191bbe6",
   "metadata": {},
   "outputs": [],
   "source": []
  }
 ],
 "metadata": {
  "kernelspec": {
   "display_name": "Python 3",
   "language": "python",
   "name": "python3"
  },
  "language_info": {
   "codemirror_mode": {
    "name": "ipython",
    "version": 3
   },
   "file_extension": ".py",
   "mimetype": "text/x-python",
   "name": "python",
   "nbconvert_exporter": "python",
   "pygments_lexer": "ipython3",
   "version": "3.8.8"
  }
 },
 "nbformat": 4,
 "nbformat_minor": 5
}
